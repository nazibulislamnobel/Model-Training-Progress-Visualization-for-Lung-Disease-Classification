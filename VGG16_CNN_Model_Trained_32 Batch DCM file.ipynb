{
 "cells": [
  {
   "cell_type": "code",
   "execution_count": null,
   "metadata": {
    "colab": {
     "base_uri": "https://localhost:8080/"
    },
    "id": "gF2lqD7nkK9N",
    "outputId": "8d134180-5c25-44ea-8ab9-d15509c765ea"
   },
   "outputs": [],
   "source": [
    "pip install numpy\n",
    "pip install matplotlib\n",
    "pip install scikit-learn\n",
    "pip install tensorflow\n",
    "pip install pydicom"
   ]
  },
  {
   "cell_type": "code",
   "execution_count": 1,
   "metadata": {
    "id": "qzS8PyaCkUZg"
   },
   "outputs": [],
   "source": [
    "import os\n",
    "import pydicom\n",
    "import numpy as np\n",
    "import matplotlib.pyplot as plt\n",
    "from sklearn.model_selection import train_test_split\n",
    "from tensorflow.keras.models import Sequential\n",
    "from tensorflow.keras.layers import Conv2D, MaxPooling2D, Flatten, Dense, Dropout\n",
    "from tensorflow.keras.applications import VGG16\n",
    "from tensorflow.keras.optimizers import Adam\n",
    "from tensorflow.keras.preprocessing.image import ImageDataGenerator\n",
    "from tensorflow.keras.callbacks import EarlyStopping\n",
    "from tensorflow.keras.layers import Flatten, Dense, Dropout\n",
    "from tensorflow.keras.models import Model"
   ]
  },
  {
   "cell_type": "code",
   "execution_count": null,
   "metadata": {
    "colab": {
     "base_uri": "https://localhost:8080/"
    },
    "id": "BU3zEFEpkhjb",
    "outputId": "a221c908-742d-4af1-ffdd-2795d6102091"
   },
   "outputs": [],
   "source": [
    "def load_dicom_data(root_folder):\n",
    "    dicom_data = []\n",
    "\n",
    "    for root, _, files in os.walk(root_folder):\n",
    "        for file in files:\n",
    "            if file.endswith(\".dcm\"):\n",
    "                file_path = os.path.join(root, file)\n",
    "                dicom = pydicom.dcmread(file_path)\n",
    "                dicom_array = dicom.pixel_array\n",
    "\n",
    "                if len(dicom_data) == 0 or dicom_array.shape == dicom_data[0].shape:\n",
    "                    dicom_data.append(dicom_array)\n",
    "                else:\n",
    "                    print(f\"Ignoring file {file} due to mismatched dimensions.\")\n",
    "\n",
    "    return np.array(dicom_data)\n",
    "\n",
    "data_folder = 'C:\\\\Users\\\\HP\\\\Downloads\\\\Data'\n",
    "dicom_data = load_dicom_data(data_folder)\n",
    "\n",
    "print(f\"Loaded {len(dicom_data)} DICOM files.\")"
   ]
  },
  {
   "cell_type": "code",
   "execution_count": 3,
   "metadata": {
    "id": "cIN0rAKBkreN"
   },
   "outputs": [],
   "source": [
    "labels = np.random.randint(2, size=len(dicom_data))"
   ]
  },
  {
   "cell_type": "code",
   "execution_count": 4,
   "metadata": {
    "id": "o7H_GkTEyKWF"
   },
   "outputs": [],
   "source": [
    "X = dicom_data[:, :, :, np.newaxis]\n",
    "y = labels"
   ]
  },
  {
   "cell_type": "code",
   "execution_count": 5,
   "metadata": {
    "id": "8B4snt462SU5"
   },
   "outputs": [],
   "source": [
    "X_train, X_test, y_train, y_test = train_test_split(X, y, test_size=0.2, random_state=42)"
   ]
  },
  {
   "cell_type": "code",
   "execution_count": null,
   "metadata": {
    "id": "2VYP06j411c0"
   },
   "outputs": [],
   "source": [
    "X_train_rgb = np.repeat(X_train, 3, axis=-1)\n",
    "X_test_rgb = np.repeat(X_test, 3, axis=-1)\n",
    "\n",
    "base_model = VGG16(weights='imagenet', include_top=False, input_shape=(X_train_rgb.shape[1:]))\n",
    "\n",
    "model = Sequential([\n",
    "    base_model,\n",
    "    Flatten(),\n",
    "    Dense(256, activation='relu'),\n",
    "    Dropout(0.5),\n",
    "    Dense(1, activation='sigmoid')\n",
    "])"
   ]
  },
  {
   "cell_type": "code",
   "execution_count": 7,
   "metadata": {
    "id": "XggHQHCM1_h8"
   },
   "outputs": [],
   "source": [
    "model.compile(optimizer=Adam(learning_rate=0.0001),\n",
    "              loss='binary_crossentropy',\n",
    "              metrics=['accuracy'])"
   ]
  },
  {
   "cell_type": "code",
   "execution_count": null,
   "metadata": {
    "id": "SpiiLz_e1keI"
   },
   "outputs": [],
   "source": [
    "train_datagen = ImageDataGenerator(\n",
    "    rescale=1.0 / 255,\n",
    "    rotation_range=20,\n",
    "    width_shift_range=0.2,\n",
    "    height_shift_range=0.2,\n",
    "    horizontal_flip=True,\n",
    "    vertical_flip=True,\n",
    "    fill_mode='nearest')\n",
    "\n",
    "train_generator = train_datagen.flow(X_train_rgb, y_train, batch_size=32)"
   ]
  },
  {
   "cell_type": "code",
   "execution_count": null,
   "metadata": {
    "colab": {
     "base_uri": "https://localhost:8080/"
    },
    "id": "SIVXnjbT4gJi",
    "outputId": "a8796864-a675-4d96-b757-51ae7b3e379b"
   },
   "outputs": [],
   "source": [
    "early_stopping = EarlyStopping(monitor='val_loss', patience=5, restore_best_weights=True)\n",
    "\n",
    "history = model.fit(train_generator,\n",
    "                    epochs=100,\n",
    "                    validation_data=(X_test_rgb, y_test),\n",
    "                    callbacks=[early_stopping])\n"
   ]
  },
  {
   "cell_type": "code",
   "execution_count": null,
   "metadata": {
    "colab": {
     "base_uri": "https://localhost:8080/"
    },
    "id": "JmS-j4qg0mdb",
    "outputId": "d1efb190-1c02-49da-903c-7da25708f774"
   },
   "outputs": [],
   "source": [
    "history = model.fit(train_generator,\n",
    "                    epochs=20,\n",
    "                    validation_data=(X_test_rgb, y_test))"
   ]
  },
  {
   "cell_type": "code",
   "execution_count": null,
   "metadata": {
    "colab": {
     "base_uri": "https://localhost:8080/"
    },
    "id": "0QDbsoPW0XgH",
    "outputId": "d9604a9d-0677-4165-e563-e1e4352e9c68"
   },
   "outputs": [],
   "source": [
    "train_generator = train_datagen.flow(X_train_rgb, y_train, batch_size=32)\n",
    "\n",
    "history = model.fit(\n",
    "    train_generator,\n",
    "    steps_per_epoch=len(X_train_rgb) // 32,\n",
    "    epochs=20,\n",
    "    validation_data=(X_test_rgb, y_test))"
   ]
  },
  {
   "cell_type": "code",
   "execution_count": null,
   "metadata": {
    "id": "Z6aYtl1Onzm-"
   },
   "outputs": [],
   "source": [
    "plt.figure(figsize=(12, 4))\n",
    "\n",
    "plt.subplot(1, 2, 1)\n",
    "plt.plot(history.history['accuracy'], label='Training Accuracy')\n",
    "plt.plot(history.history['val_accuracy'], label='Validation Accuracy')\n",
    "plt.xlabel('Epoch')\n",
    "plt.ylabel('Accuracy')\n",
    "plt.legend()\n",
    "\n",
    "plt.subplot(1, 2, 2)\n",
    "plt.plot(history.history['loss'], label='Training Loss')\n",
    "plt.plot(history.history['val_loss'], label='Validation Loss')\n",
    "plt.xlabel('Epoch')\n",
    "plt.ylabel('Loss')\n",
    "plt.legend()\n",
    "\n",
    "plt.tight_layout()\n",
    "plt.show()"
   ]
  }
 ],
 "metadata": {
  "colab": {
   "provenance": []
  },
  "kernelspec": {
   "display_name": "Python 3 (ipykernel)",
   "language": "python",
   "name": "python3"
  },
  "language_info": {
   "codemirror_mode": {
    "name": "ipython",
    "version": 3
   },
   "file_extension": ".py",
   "mimetype": "text/x-python",
   "name": "python",
   "nbconvert_exporter": "python",
   "pygments_lexer": "ipython3",
   "version": "3.9.13"
  }
 },
 "nbformat": 4,
 "nbformat_minor": 1
}
